{
 "cells": [
  {
   "cell_type": "code",
   "execution_count": 1,
   "outputs": [
    {
     "name": "stdout",
     "output_type": "stream",
     "text": [
      "Test Accuracy: 0.876959619952494\n"
     ]
    }
   ],
   "source": [
    "import numpy as np\n",
    "from sklearn.decomposition import PCA\n",
    "from sklearn import svm\n",
    "from sklearn.metrics import accuracy_score\n",
    "from sklearn.model_selection import train_test_split\n",
    "\n",
    "def load_data_from_file(file='preprocessed_data_cropped.npz'):\n",
    "    data = np.load(file)\n",
    "    return data['X'], data['y']\n",
    "\n",
    "# Load the data\n",
    "X, y = load_data_from_file()\n",
    "\n",
    "# Flatten the image data\n",
    "X = X.reshape(X.shape[0], -1)\n",
    "\n",
    "# Convert one-hot encoded labels back to their original class numbers\n",
    "y = np.argmax(y, axis=1)\n",
    "\n",
    "# Split the data into training and testing sets\n",
    "X_train = X[:39209]\n",
    "y_train = y[:39209]\n",
    "X_test = X[39209:]\n",
    "y_test = y[39209:]\n",
    "\n",
    "\n",
    "# Define the SVM model with a linear kernel\n",
    "model = svm.SVC(kernel='linear')\n",
    "model.fit(X_train, y_train)\n",
    "\n",
    "# Predict and evaluate accuracy\n",
    "y_pred = model.predict(X_test)\n",
    "accuracy = accuracy_score(y_test, y_pred)\n",
    "print(\"SVM Test Accuracy:\", accuracy)\n"
   ],
   "metadata": {
    "collapsed": false,
    "ExecuteTime": {
     "start_time": "2023-04-23T12:01:50.296876Z",
     "end_time": "2023-04-23T12:06:39.917101Z"
    }
   }
  },
  {
   "cell_type": "markdown",
   "source": [
    " SVM test Accuracy: 0.876959619952494"
   ],
   "metadata": {
    "collapsed": false
   }
  },
  {
   "cell_type": "code",
   "execution_count": 1,
   "metadata": {
    "collapsed": true,
    "ExecuteTime": {
     "start_time": "2023-04-13T23:55:28.381174Z",
     "end_time": "2023-04-14T00:34:42.833392Z"
    }
   },
   "outputs": [
    {
     "name": "stdout",
     "output_type": "stream",
     "text": [
      "Fold 1 accuracy: 0.97\n",
      "Fold 1 f1_score: 0.97\n",
      "Fold 2 accuracy: 0.97\n",
      "Fold 2 f1_score: 0.97\n",
      "Fold 3 accuracy: 0.97\n",
      "Fold 3 f1_score: 0.97\n",
      "Fold 4 accuracy: 0.97\n",
      "Fold 4 f1_score: 0.97\n",
      "Fold 5 accuracy: 0.97\n",
      "Fold 5 f1_score: 0.97\n",
      "Mean accuracy: 0.97\n",
      "Mean f1_score: 0.97\n"
     ]
    }
   ],
   "source": [
    "import numpy as np\n",
    "from sklearn.model_selection import KFold\n",
    "from sklearn.svm import SVC\n",
    "from sklearn import svm\n",
    "from sklearn.model_selection import KFold\n",
    "from sklearn.metrics import accuracy_score, f1_score\n",
    "def load_data_from_file(file='preprocessed_data.npz'):\n",
    "    data = np.load(file)\n",
    "    return data['X'], data['y']\n",
    "\n",
    "# Load the data\n",
    "X, y = load_data_from_file()\n",
    "\n",
    "# Reshape the input data into a 2-dimensional array\n",
    "X = X.reshape(X.shape[0], -1)\n",
    "# Convert y to a 1D array\n",
    "y = np.argmax(y, axis=1)\n",
    "#only use train set to validation\n",
    "X = X[:39209]\n",
    "y = y[:39209]\n",
    "# Define the SVM model with a linear kernel\n",
    "model = svm.SVC(kernel='linear')\n",
    "\n",
    "# Define the number of folds for cross-validation\n",
    "num_folds = 5\n",
    "\n",
    "# Define the KFold object for splitting the data\n",
    "kfold = KFold(n_splits=num_folds, shuffle=True, random_state=42)\n",
    "\n",
    "# Initialize a list to store the accuracy scores for each fold\n",
    "accuracy_scores = []\n",
    "f1_scores = []\n",
    "# Loop through each fold\n",
    "for fold, (train_index, validation_index) in enumerate(kfold.split(X)):\n",
    "\n",
    "    # Split the data into training and validationing sets for the current fold\n",
    "    X_train, X_validation = X[train_index], X[validation_index]\n",
    "    y_train, y_validation = y[train_index], y[validation_index]\n",
    "\n",
    "    # Fit the SVM model on the training set\n",
    "    model.fit(X_train, y_train)\n",
    "\n",
    "    # Make predictions on the validationing set\n",
    "    y_pred = model.predict(X_validation)\n",
    "    # Calculate the accuracy score for the current fold and add it to the list\n",
    "    accuracy_scores.append(accuracy_score(y_validation, y_pred))\n",
    "    f1_scores.append(f1_score(y_validation, y_pred, average=\"weighted\"))\n",
    "    # Print the accuracy score for the current fold\n",
    "    print('Fold %d accuracy: %.2f' % (fold+1, accuracy_scores[-1]))\n",
    "    print('Fold %d f1_score: %.2f' % (fold + 1, f1_scores[-1]))\n",
    "# Print the mean accuracy score across all folds\n",
    "print('Mean accuracy: %.2f' % np.mean(accuracy_scores))\n",
    "print('Mean f1_score: %.2f' % np.mean(f1_scores))\n",
    "\n",
    "\n"
   ]
  },
  {
   "cell_type": "markdown",
   "source": [
    "cropped\n",
    "Fold 1 f1_score: 0.97\n",
    "Fold 2 accuracy: 0.97\n",
    "Fold 2 f1_score: 0.97\n",
    "Fold 3 accuracy: 0.97\n",
    "Fold 3 f1_score: 0.97\n",
    "Fold 4 accuracy: 0.97\n",
    "Fold 4 f1_score: 0.97\n",
    "Fold 5 accuracy: 0.97\n",
    "Fold 5 f1_score: 0.97\n",
    "Mean accuracy: 0.97\n",
    "Mean f1_score: 0.97"
   ],
   "metadata": {
    "collapsed": false
   }
  },
  {
   "cell_type": "markdown",
   "source": [
    "Fold 1 accuracy: 0.96\n",
    "Fold 1 f1_score: 0.96\n",
    "Fold 2 accuracy: 0.96\n",
    "Fold 2 f1_score: 0.96\n",
    "Fold 3 accuracy: 0.96\n",
    "Fold 3 f1_score: 0.96\n",
    "Fold 4 accuracy: 0.96\n",
    "Fold 4 f1_score: 0.96\n",
    "Fold 5 accuracy: 0.96\n",
    "Fold 5 f1_score: 0.96\n",
    "Mean accuracy: 0.96\n",
    "Mean f1_score: 0.96\n"
   ],
   "metadata": {
    "collapsed": false
   }
  }
 ],
 "metadata": {
  "kernelspec": {
   "display_name": "Python 3",
   "language": "python",
   "name": "python3"
  },
  "language_info": {
   "codemirror_mode": {
    "name": "ipython",
    "version": 2
   },
   "file_extension": ".py",
   "mimetype": "text/x-python",
   "name": "python",
   "nbconvert_exporter": "python",
   "pygments_lexer": "ipython2",
   "version": "2.7.6"
  }
 },
 "nbformat": 4,
 "nbformat_minor": 0
}
