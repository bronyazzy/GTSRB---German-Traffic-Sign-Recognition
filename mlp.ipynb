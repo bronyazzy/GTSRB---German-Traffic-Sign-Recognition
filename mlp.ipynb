{
 "cells": [
  {
   "cell_type": "code",
   "execution_count": 2,
   "metadata": {
    "collapsed": true,
    "ExecuteTime": {
     "start_time": "2023-04-23T16:59:17.525353Z",
     "end_time": "2023-04-23T17:00:51.694739Z"
    }
   },
   "outputs": [
    {
     "name": "stdout",
     "output_type": "stream",
     "text": [
      "mlp_pca100 Test Accuracy: 0.8860649247822644\n"
     ]
    }
   ],
   "source": [
    "import numpy as np\n",
    "from sklearn.neural_network import MLPClassifier\n",
    "from sklearn.model_selection import train_test_split\n",
    "from sklearn.metrics import f1_score, accuracy_score\n",
    "from sklearn.decomposition import PCA\n",
    "#without pca F1 Score = 0.9521, Accuracy = 0.9524, Iterations = 175\n",
    "#F1 Score = 0.9637, Accuracy = 0.9636, Iterations = 174\n",
    "\"\"\"\n",
    "Test Accuracy: 0.8902612826603326\n",
    "Train Accuracy: 0.9999489913030172\n",
    "difference between Train Accuracy and Test: 0.10968770864268462\n",
    "\"\"\"\n",
    "def load_data_from_file(file='preprocessed_data_cropped.npz'):\n",
    "    data = np.load(file)\n",
    "    return data['X'], data['y']\n",
    "\n",
    "# Load the data\n",
    "X, y = load_data_from_file()\n",
    "\n",
    "# Reshape the input data into a 2-dimensional array\n",
    "X = X.reshape(X.shape[0], -1)\n",
    "# Apply PCA\n",
    "pca = PCA(n_components=100)\n",
    "X = pca.fit_transform(X)\n",
    "# Convert y to a 1D array\n",
    "y = np.argmax(y, axis=1)\n",
    "\n",
    "# Split the data into training and testing sets\n",
    "X_train = X[:39209]\n",
    "y_train = y[:39209]\n",
    "X_test = X[39209:]\n",
    "y_test = y[39209:]\n",
    "\n",
    "\n",
    "# Train the MLP model for classification\n",
    "model = MLPClassifier()\n",
    "model.fit(X_train, y_train)\n",
    "\n",
    "# Make predictions on the testing set\n",
    "y_pred = model.predict(X_test)\n",
    "\n",
    "\n",
    "# Predict and evaluate accuracy\n",
    "accuracy = accuracy_score(y_test, y_pred)\n",
    "print(\"mlp_pca100 Test Accuracy:\", accuracy)\n",
    "\n"
   ]
  },
  {
   "cell_type": "markdown",
   "source": [
    "mlp_pca100 Test Accuracy: 0.8883610451306413"
   ],
   "metadata": {
    "collapsed": false
   }
  }
 ],
 "metadata": {
  "kernelspec": {
   "display_name": "Python 3",
   "language": "python",
   "name": "python3"
  },
  "language_info": {
   "codemirror_mode": {
    "name": "ipython",
    "version": 2
   },
   "file_extension": ".py",
   "mimetype": "text/x-python",
   "name": "python",
   "nbconvert_exporter": "python",
   "pygments_lexer": "ipython2",
   "version": "2.7.6"
  }
 },
 "nbformat": 4,
 "nbformat_minor": 0
}
